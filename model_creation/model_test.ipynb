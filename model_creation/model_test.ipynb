{
 "cells": [
  {
   "cell_type": "code",
   "execution_count": 2,
   "metadata": {},
   "outputs": [],
   "source": [
    "import pandas as pd\n",
    "import dill\n",
    "dill._dill._reverse_typemap['ClassType'] = type\n",
    "from sklearn.preprocessing import StandardScaler\n",
    "from sklearn.metrics import confusion_matrix,accuracy_score,classification_report\n",
    "from sklearn.metrics import roc_auc_score,roc_curve,scorer"
   ]
  },
  {
   "cell_type": "code",
   "execution_count": 3,
   "metadata": {},
   "outputs": [
    {
     "name": "stderr",
     "output_type": "stream",
     "text": [
      "C:\\Users\\Pavel\\Anaconda3\\lib\\site-packages\\pandas\\core\\series.py:4141: FutureWarning: from_csv is deprecated. Please use read_csv(...) instead. Note that some of the default arguments are different, so please refer to the documentation for from_csv when changing your function calls\n",
      "  infer_datetime_format=infer_datetime_format)\n"
     ]
    },
    {
     "data": {
      "text/plain": [
       "12910    Ой ли?Ни характерного выступа сзади, ни штифта...\n",
       "9867     Я предолжил временное решение. Чтобы частенько...\n",
       "5574     СМОТРИШЬ ВЕБМ С ЭДИКОМ БУГУРТИШЬ РЖ ШЬ ОТ ЭДИК...\n",
       "dtype: object"
      ]
     },
     "execution_count": 3,
     "metadata": {},
     "output_type": "execute_result"
    }
   ],
   "source": [
    "x_test = pd.Series.from_csv(\"x_test.csv\", header=None, index_col=0)\n",
    "y_test = pd.Series.from_csv(\"y_test.csv\", header=None, index_col=0)\n",
    "x_test.head(3)"
   ]
  },
  {
   "cell_type": "code",
   "execution_count": 4,
   "metadata": {},
   "outputs": [],
   "source": [
    "with open('model_trained.dill', 'rb') as in_strm:\n",
    "    pipeline = dill.load(in_strm)"
   ]
  },
  {
   "cell_type": "code",
   "execution_count": 5,
   "metadata": {},
   "outputs": [],
   "source": [
    "pred = pipeline.predict(x_test)"
   ]
  },
  {
   "cell_type": "code",
   "execution_count": 6,
   "metadata": {},
   "outputs": [
    {
     "name": "stdout",
     "output_type": "stream",
     "text": [
      "Accuracy   Score :  0.8557058619493583\n",
      "Area under curve :  0.8141716472256095 \n",
      "\n"
     ]
    }
   ],
   "source": [
    "print (\"Accuracy   Score : \",accuracy_score(y_test,pred))\n",
    "#roc_auc_score\n",
    "model_roc_auc = roc_auc_score(y_test,pred) \n",
    "print (\"Area under curve : \",model_roc_auc,\"\\n\")"
   ]
  },
  {
   "cell_type": "code",
   "execution_count": 7,
   "metadata": {},
   "outputs": [],
   "source": [
    "import pandas as pd\n",
    "from sklearn.metrics import roc_auc_score,roc_curve,scorer\n",
    "from urllib import request, parse\n",
    "import urllib.request\n",
    "import json"
   ]
  },
  {
   "cell_type": "code",
   "execution_count": 8,
   "metadata": {},
   "outputs": [],
   "source": [
    "def get_prediction(text, url):\n",
    "    body = {'text': text}\n",
    "\n",
    "    myurl = url \"http://localhost:5000/api/predict\"\n",
    "    req = urllib.request.Request(myurl)\n",
    "    req.add_header('Content-Type', 'application/json; charset=utf-8')\n",
    "    jsondata = json.dumps(body)\n",
    "    jsondataasbytes = jsondata.encode('utf-8')   # needs to be bytes\n",
    "    req.add_header('Content-Length', len(jsondataasbytes))\n",
    "    #print (jsondataasbytes)\n",
    "    response = urllib.request.urlopen(req, jsondataasbytes)\n",
    "    return json.loads(response.read())['predictions']"
   ]
  },
  {
   "cell_type": "code",
   "execution_count": 9,
   "metadata": {},
   "outputs": [
    {
     "data": {
      "text/plain": [
       "12910    Ой ли?Ни характерного выступа сзади, ни штифта...\n",
       "9867     Я предолжил временное решение. Чтобы частенько...\n",
       "5574     СМОТРИШЬ ВЕБМ С ЭДИКОМ БУГУРТИШЬ РЖ ШЬ ОТ ЭДИК...\n",
       "7948     Предложения, пригрозите, что хотите переходить...\n",
       "1148     Приветствую! Растягивание на весь экран - стан...\n",
       "9871     Кстати, вот будет весело, если в WD3 будет так...\n",
       "5086     вообще не понимаю как они проводят такие парал...\n",
       "5118     Это довольно большая и сложная область хирурги...\n",
       "7634            Охуеть. Эти зверьки явно не для детей...\\n\n",
       "9665     На днях брала крупный пиленгас по 170 руб, мел...\n",
       "dtype: object"
      ]
     },
     "execution_count": 9,
     "metadata": {},
     "output_type": "execute_result"
    }
   ],
   "source": [
    "x_test.iloc[:10]"
   ]
  },
  {
   "cell_type": "code",
   "execution_count": 26,
   "metadata": {},
   "outputs": [
    {
     "name": "stdout",
     "output_type": "stream",
     "text": [
      "Wall time: 38.1 s\n"
     ]
    }
   ],
   "source": [
    "%%time\n",
    "pred_api = x_test[31:50].apply(lambda x: get_prediction([x]),\"http://localhost:5000/api/predict\")"
   ]
  },
  {
   "cell_type": "code",
   "execution_count": 27,
   "metadata": {},
   "outputs": [],
   "source": [
    "pred_nout = pipeline.predict(x_test.iloc[31:50])"
   ]
  },
  {
   "cell_type": "code",
   "execution_count": 28,
   "metadata": {},
   "outputs": [],
   "source": [
    "pred_api = x_test[31:50].apply(lambda x: get_prediction([x]))"
   ]
  },
  {
   "cell_type": "code",
   "execution_count": 29,
   "metadata": {},
   "outputs": [
    {
     "name": "stdout",
     "output_type": "stream",
     "text": [
      "Wall time: 38.1 s\n"
     ]
    }
   ],
   "source": [
    "%%time\n",
    "pred_heroku = x_test[31:50].apply(lambda x: get_prediction([x]),\"https://babalich1.herokuapp.com//api/predict\")"
   ]
  },
  {
   "cell_type": "code",
   "execution_count": null,
   "metadata": {},
   "outputs": [],
   "source": []
  },
  {
   "cell_type": "code",
   "execution_count": null,
   "metadata": {},
   "outputs": [],
   "source": []
  }
 ],
 "metadata": {
  "kernelspec": {
   "display_name": "Python 3",
   "language": "python",
   "name": "python3"
  },
  "language_info": {
   "codemirror_mode": {
    "name": "ipython",
    "version": 3
   },
   "file_extension": ".py",
   "mimetype": "text/x-python",
   "name": "python",
   "nbconvert_exporter": "python",
   "pygments_lexer": "ipython3",
   "version": "3.7.3"
  }
 },
 "nbformat": 4,
 "nbformat_minor": 2
}
